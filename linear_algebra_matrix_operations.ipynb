{
  "nbformat": 4,
  "nbformat_minor": 0,
  "metadata": {
    "colab": {
      "provenance": []
    },
    "kernelspec": {
      "name": "python3",
      "display_name": "Python 3"
    },
    "language_info": {
      "name": "python"
    }
  },
  "cells": [
    {
      "cell_type": "code",
      "execution_count": 2,
      "metadata": {
        "id": "EaSOdMD6wkqr"
      },
      "outputs": [],
      "source": [
        "import torch  "
      ]
    },
    {
      "cell_type": "markdown",
      "source": [
        "1.矩阵："
      ],
      "metadata": {
        "id": "v7BvDQMsxTVF"
      }
    },
    {
      "cell_type": "code",
      "source": [
        "A = torch.arange(20).reshape(5,4)\n",
        "A"
      ],
      "metadata": {
        "colab": {
          "base_uri": "https://localhost:8080/"
        },
        "id": "iBBeqvvQxVSF",
        "outputId": "aa982379-5811-4144-cbea-bef48be2ac30"
      },
      "execution_count": 32,
      "outputs": [
        {
          "output_type": "execute_result",
          "data": {
            "text/plain": [
              "tensor([[ 0,  1,  2,  3],\n",
              "        [ 4,  5,  6,  7],\n",
              "        [ 8,  9, 10, 11],\n",
              "        [12, 13, 14, 15],\n",
              "        [16, 17, 18, 19]])"
            ]
          },
          "metadata": {},
          "execution_count": 32
        }
      ]
    },
    {
      "cell_type": "code",
      "source": [
        "A.T #转置"
      ],
      "metadata": {
        "colab": {
          "base_uri": "https://localhost:8080/"
        },
        "id": "Z-ftm4XWx3a9",
        "outputId": "fb19d11b-b10d-4c0a-d8ed-105c5ef8b89a"
      },
      "execution_count": 6,
      "outputs": [
        {
          "output_type": "execute_result",
          "data": {
            "text/plain": [
              "tensor([[ 0,  4,  8, 12, 16],\n",
              "        [ 1,  5,  9, 13, 17],\n",
              "        [ 2,  6, 10, 14, 18],\n",
              "        [ 3,  7, 11, 15, 19]])"
            ]
          },
          "metadata": {},
          "execution_count": 6
        }
      ]
    },
    {
      "cell_type": "markdown",
      "source": [
        "2.对称矩阵：转置矩阵与原矩阵相同"
      ],
      "metadata": {
        "id": "XgmFQpyiyJet"
      }
    },
    {
      "cell_type": "code",
      "source": [
        "B = torch.tensor([[1,2,3],[2,0,4],[3,4,5]])\n",
        "B"
      ],
      "metadata": {
        "colab": {
          "base_uri": "https://localhost:8080/"
        },
        "id": "Rpb6gfFUyQtV",
        "outputId": "da43d7a8-1ee6-4a8e-a282-61d23f77a12f"
      },
      "execution_count": 7,
      "outputs": [
        {
          "output_type": "execute_result",
          "data": {
            "text/plain": [
              "tensor([[1, 2, 3],\n",
              "        [2, 0, 4],\n",
              "        [3, 4, 5]])"
            ]
          },
          "metadata": {},
          "execution_count": 7
        }
      ]
    },
    {
      "cell_type": "code",
      "source": [
        "B == B.T"
      ],
      "metadata": {
        "colab": {
          "base_uri": "https://localhost:8080/"
        },
        "id": "ss7iRr38yavs",
        "outputId": "ff617b84-2813-46a9-9e9f-a26602c26e0e"
      },
      "execution_count": 8,
      "outputs": [
        {
          "output_type": "execute_result",
          "data": {
            "text/plain": [
              "tensor([[True, True, True],\n",
              "        [True, True, True],\n",
              "        [True, True, True]])"
            ]
          },
          "metadata": {},
          "execution_count": 8
        }
      ]
    },
    {
      "cell_type": "markdown",
      "source": [
        "3.矩阵推广--（简单理解：标量是0维，向量是1维，矩阵是2维，下面的X,Y就是对矩阵的再推广,X是3维，Y是4维）\n",
        "**注意:**"
      ],
      "metadata": {
        "id": "FOuuV9pIyiMs"
      }
    },
    {
      "cell_type": "markdown",
      "source": [
        "1.   向量的长度通常称为向量的维度（dimension）。\n",
        "2.   维度（dimension）这个词在不同上下文时往往会有不同的含义，这经常会使人感到困惑。 为了清楚起见，我们在此明确一下： 向量或轴的维度被用来表示向量或轴的长度，即向量或轴的元素数量。 然而，张量的维度用来表示张量具有的轴数。 在这个意义上，张量的某个轴的维数就是这个轴的长度。\n"
      ],
      "metadata": {
        "id": "q-t6frLGpgfr"
      }
    },
    {
      "cell_type": "code",
      "source": [
        "X = torch.arange(24).reshape(2,3,4)\n",
        "Y = torch.arange(36).reshape(3,3,4)\n",
        "print(X)\n",
        "print(Y)"
      ],
      "metadata": {
        "colab": {
          "base_uri": "https://localhost:8080/"
        },
        "id": "wZnKhokqyxWu",
        "outputId": "a78614db-0d62-44d9-c9f6-f4259cc1bfae"
      },
      "execution_count": 15,
      "outputs": [
        {
          "output_type": "stream",
          "name": "stdout",
          "text": [
            "tensor([[[ 0,  1,  2,  3],\n",
            "         [ 4,  5,  6,  7],\n",
            "         [ 8,  9, 10, 11]],\n",
            "\n",
            "        [[12, 13, 14, 15],\n",
            "         [16, 17, 18, 19],\n",
            "         [20, 21, 22, 23]]])\n",
            "tensor([[[ 0,  1,  2,  3],\n",
            "         [ 4,  5,  6,  7],\n",
            "         [ 8,  9, 10, 11]],\n",
            "\n",
            "        [[12, 13, 14, 15],\n",
            "         [16, 17, 18, 19],\n",
            "         [20, 21, 22, 23]],\n",
            "\n",
            "        [[24, 25, 26, 27],\n",
            "         [28, 29, 30, 31],\n",
            "         [32, 33, 34, 35]]])\n"
          ]
        }
      ]
    },
    {
      "cell_type": "markdown",
      "source": [
        "4.降维："
      ],
      "metadata": {
        "id": "wljBo1usosoc"
      }
    },
    {
      "cell_type": "code",
      "source": [
        "x = torch.arange(4, dtype=torch.float32)\n",
        "x, x.sum(),x.shape"
      ],
      "metadata": {
        "colab": {
          "base_uri": "https://localhost:8080/"
        },
        "id": "F7Ot_AO_szf0",
        "outputId": "91f97473-abb1-46c3-e9b1-f4059c170814"
      },
      "execution_count": 25,
      "outputs": [
        {
          "output_type": "execute_result",
          "data": {
            "text/plain": [
              "(tensor([0., 1., 2., 3.]), tensor(6.), torch.Size([4]))"
            ]
          },
          "metadata": {},
          "execution_count": 25
        }
      ]
    },
    {
      "cell_type": "markdown",
      "source": [
        "从这里就可以看到x.sum()输出的是一个0维的，原来的x是一个1维的"
      ],
      "metadata": {
        "id": "j68zRESctY4s"
      }
    },
    {
      "cell_type": "markdown",
      "source": [
        "指定沿着哪一个轴降维："
      ],
      "metadata": {
        "id": "dZx633N3uPcj"
      }
    },
    {
      "cell_type": "code",
      "source": [
        "A_sum_axis0 = A.sum(axis = 0)#相当于按列求和\n",
        "A_sum_axis0, A_sum_axis0.shape"
      ],
      "metadata": {
        "colab": {
          "base_uri": "https://localhost:8080/"
        },
        "id": "o2mmlknNuV4i",
        "outputId": "cdf34b4c-34de-42ac-f8dd-ba53bff643b5"
      },
      "execution_count": 12,
      "outputs": [
        {
          "output_type": "execute_result",
          "data": {
            "text/plain": [
              "(tensor([40, 45, 50, 55]), torch.Size([4]))"
            ]
          },
          "metadata": {},
          "execution_count": 12
        }
      ]
    },
    {
      "cell_type": "markdown",
      "source": [
        "这里我指定按照0轴降维，原来是2维，我只沿一个轴降维，自然的，就变为了1维"
      ],
      "metadata": {
        "id": "aXoMiS9LuorD"
      }
    },
    {
      "cell_type": "code",
      "source": [
        "B = torch.arange(20, dtype=torch.float32).reshape(5, 4)\n",
        "B.mean()#计算按所有轴降维计算平均值，说白了就是将A中的所有元素相加求平均值,注意这个方法，只能是针对元素是float类型，int类型不支持"
      ],
      "metadata": {
        "colab": {
          "base_uri": "https://localhost:8080/"
        },
        "id": "kpGy4mWYvEI8",
        "outputId": "ced75770-b2f2-4964-99f2-ecff44209bdd"
      },
      "execution_count": 16,
      "outputs": [
        {
          "output_type": "execute_result",
          "data": {
            "text/plain": [
              "tensor(9.5000)"
            ]
          },
          "metadata": {},
          "execution_count": 16
        }
      ]
    },
    {
      "cell_type": "code",
      "source": [
        "B.numel()#计算元素个数"
      ],
      "metadata": {
        "colab": {
          "base_uri": "https://localhost:8080/"
        },
        "id": "DX0fLKgpvmbM",
        "outputId": "dd0975c1-0507-4639-d55d-86a8d48ac1ac"
      },
      "execution_count": 15,
      "outputs": [
        {
          "output_type": "execute_result",
          "data": {
            "text/plain": [
              "20"
            ]
          },
          "metadata": {},
          "execution_count": 15
        }
      ]
    },
    {
      "cell_type": "markdown",
      "source": [
        "5.非降维方法"
      ],
      "metadata": {
        "id": "cE7uJKoawHhV"
      }
    },
    {
      "cell_type": "markdown",
      "source": [
        "意思就是说，如上文中，A.sum()输出的必然是降维的。如何求某些和且不降维"
      ],
      "metadata": {
        "id": "9E2bq6VRwdJr"
      }
    },
    {
      "cell_type": "code",
      "source": [
        "B"
      ],
      "metadata": {
        "colab": {
          "base_uri": "https://localhost:8080/"
        },
        "id": "nmAXy_5ewzj1",
        "outputId": "0d29a801-8327-4c28-d064-6f5b539c401e"
      },
      "execution_count": 19,
      "outputs": [
        {
          "output_type": "execute_result",
          "data": {
            "text/plain": [
              "tensor([[ 0.,  1.,  2.,  3.],\n",
              "        [ 4.,  5.,  6.,  7.],\n",
              "        [ 8.,  9., 10., 11.],\n",
              "        [12., 13., 14., 15.],\n",
              "        [16., 17., 18., 19.]])"
            ]
          },
          "metadata": {},
          "execution_count": 19
        }
      ]
    },
    {
      "cell_type": "code",
      "source": [
        "sum_B = B.sum(axis=1, keepdims=True)#指定按照1轴求和\n",
        "sum_B#还是2维"
      ],
      "metadata": {
        "colab": {
          "base_uri": "https://localhost:8080/"
        },
        "id": "SxljKMvXwNXE",
        "outputId": "a7126076-3a4e-447d-84d0-28a444dc58ed"
      },
      "execution_count": 18,
      "outputs": [
        {
          "output_type": "execute_result",
          "data": {
            "text/plain": [
              "tensor([[ 6.],\n",
              "        [22.],\n",
              "        [38.],\n",
              "        [54.],\n",
              "        [70.]])"
            ]
          },
          "metadata": {},
          "execution_count": 18
        }
      ]
    },
    {
      "cell_type": "markdown",
      "source": [
        "cumsum也是不降维，只不过他的功能是沿着某一个(e.g. 1轴)轴，B00=B00,B01=B00+B01,B02=B00+B01+B02..."
      ],
      "metadata": {
        "id": "w2wbu9SPx2dU"
      }
    },
    {
      "cell_type": "code",
      "source": [
        "B.cumsum(axis=1)"
      ],
      "metadata": {
        "colab": {
          "base_uri": "https://localhost:8080/"
        },
        "id": "6VXiQRDlxn2M",
        "outputId": "35920741-caa8-42f6-8609-54e2cc489665"
      },
      "execution_count": 21,
      "outputs": [
        {
          "output_type": "execute_result",
          "data": {
            "text/plain": [
              "tensor([[ 0.,  1.,  3.,  6.],\n",
              "        [ 4.,  9., 15., 22.],\n",
              "        [ 8., 17., 27., 38.],\n",
              "        [12., 25., 39., 54.],\n",
              "        [16., 33., 51., 70.]])"
            ]
          },
          "metadata": {},
          "execution_count": 21
        }
      ]
    },
    {
      "cell_type": "markdown",
      "source": [
        "6.向量的点积"
      ],
      "metadata": {
        "id": "YmxSMH1R0zIt"
      }
    },
    {
      "cell_type": "code",
      "source": [
        "y = torch.ones(4, dtype = torch.float32)\n",
        "x, y, torch.dot(x, y)"
      ],
      "metadata": {
        "colab": {
          "base_uri": "https://localhost:8080/"
        },
        "id": "zuty-RX803G0",
        "outputId": "370d726c-a996-4de3-8fdd-d8da6e899861"
      },
      "execution_count": 22,
      "outputs": [
        {
          "output_type": "execute_result",
          "data": {
            "text/plain": [
              "(tensor([0., 1., 2., 3.]), tensor([1., 1., 1., 1.]), tensor(6.))"
            ]
          },
          "metadata": {},
          "execution_count": 22
        }
      ]
    },
    {
      "cell_type": "markdown",
      "source": [
        "点积的几何意义是：\n",
        "点乘的结果表示在方向上的投影与的乘积，反映了两个向量在方向上的相似度，结果越大越相似。基于结果可以判断这两个向量是否是同一方向，是否正交垂直"
      ],
      "metadata": {
        "id": "vLbwAWpH1DUc"
      }
    },
    {
      "cell_type": "markdown",
      "source": [
        "**a**点积**b**>0说明方向基本相同，夹角在0-90之间，=0说明垂直，<0说明方向基本相反，夹角在90-180之间"
      ],
      "metadata": {
        "id": "WE_pKw5o1PRU"
      }
    },
    {
      "cell_type": "markdown",
      "source": [
        "7.矩阵向量积"
      ],
      "metadata": {
        "id": "g65-AqSS2LSc"
      }
    },
    {
      "cell_type": "code",
      "source": [
        "B.shape, x.shape, torch.mv(B, x)"
      ],
      "metadata": {
        "colab": {
          "base_uri": "https://localhost:8080/"
        },
        "id": "tku-HWJZ1um-",
        "outputId": "323a4380-ce34-4faf-ab89-7cf114dce3e4"
      },
      "execution_count": 27,
      "outputs": [
        {
          "output_type": "execute_result",
          "data": {
            "text/plain": [
              "(torch.Size([5, 4]), torch.Size([4]), tensor([ 14.,  38.,  62.,  86., 110.]))"
            ]
          },
          "metadata": {},
          "execution_count": 27
        }
      ]
    },
    {
      "cell_type": "markdown",
      "source": [
        "8.矩阵的乘法"
      ],
      "metadata": {
        "id": "_NHejDSh3Sjt"
      }
    },
    {
      "cell_type": "code",
      "source": [
        "C = torch.ones(3, 4)\n",
        "torch.mm(B, C)"
      ],
      "metadata": {
        "colab": {
          "base_uri": "https://localhost:8080/"
        },
        "id": "HINNKnEl3W22",
        "outputId": "5b604358-a3c0-4a56-d5c3-0ecd19a63396"
      },
      "execution_count": 35,
      "outputs": [
        {
          "output_type": "execute_result",
          "data": {
            "text/plain": [
              "tensor([[3., 3., 3., 3.],\n",
              "        [3., 3., 3., 3.],\n",
              "        [3., 3., 3., 3.],\n",
              "        [3., 3., 3., 3.]])"
            ]
          },
          "metadata": {},
          "execution_count": 35
        }
      ]
    },
    {
      "cell_type": "markdown",
      "source": [
        "9.范数"
      ],
      "metadata": {
        "id": "X7q48oVb43Uk"
      }
    },
    {
      "cell_type": "code",
      "source": [
        "u = torch.tensor([3.0, -4.0])\n",
        "torch.norm(u)"
      ],
      "metadata": {
        "colab": {
          "base_uri": "https://localhost:8080/"
        },
        "id": "Ch9lyCd046LE",
        "outputId": "1cecbf06-f7d3-481f-c8db-c0c7f699a3c0"
      },
      "execution_count": 36,
      "outputs": [
        {
          "output_type": "execute_result",
          "data": {
            "text/plain": [
              "tensor(5.)"
            ]
          },
          "metadata": {},
          "execution_count": 36
        }
      ]
    }
  ]
}